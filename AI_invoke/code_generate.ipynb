{
 "cells": [
  {
   "cell_type": "code",
   "execution_count": 123,
   "metadata": {
    "ExecuteTime": {
     "end_time": "2020-08-23T10:19:07.368178Z",
     "start_time": "2020-08-23T10:19:07.364758Z"
    }
   },
   "outputs": [],
   "source": [
    "decls = \"\"\"\n",
    "void, print_hello\n",
    "void, print_str, char *, str, int, a\n",
    "char* , print_str, char, c,\n",
    "\"\"\".split('\\n')"
   ]
  },
  {
   "cell_type": "code",
   "execution_count": 254,
   "metadata": {
    "ExecuteTime": {
     "end_time": "2020-08-23T23:30:38.214550Z",
     "start_time": "2020-08-23T23:30:38.203966Z"
    }
   },
   "outputs": [],
   "source": [
    "# c_type:(fmt_str, py_type)\n",
    "type_fmt_map = {\n",
    "    \"base_type_fmt_map\": {\n",
    "        \"char\": ('c', 'str'),\n",
    "        \"PyStringObject\": (\"S\", \"PyStringObject\"),\n",
    "        \"int\": ('i', 'int'),\n",
    "        \"long\": ('l', 'long'),\n",
    "        \"double\": ('d', 'float'),\n",
    "        'float': ('f', 'float'),  # for python there is no float32, just float64\n",
    "    },\n",
    "\n",
    "    \"pointer_type_fmt_map\": {\n",
    "        \"char\": ('z', 'str'), # char*, 'z'|str/None|char*/NULL\n",
    "        # \"char\": ('s', 'str'), # char*, 's'|str|char*\n",
    "        \"Py_Complex\": ('D', 'complex'),\n",
    "        'Py_Object': ('O', 'any'),\n",
    "    }\n",
    "}\n",
    "\n",
    "inv_type_fmt_map = {\n",
    "    \"base_type_fmt_map\": {fmt: c_type for c_type, (fmt, py_type) in type_fmt_map[\"base_type_fmt_map\"].items()},\n",
    "    \"pointer_type_fmt_map\": {fmt: c_type for c_type, (fmt, py_type) in type_fmt_map[\"pointer_type_fmt_map\"].items()},\n",
    "}\n",
    "\n",
    "ignore_constraints = [\"const\"]\n",
    "\n",
    "include_heads = {\"base\": \"PyBaseEngine.h\", \"numpy\": \"PyNumpyEngine.h\"}"
   ]
  },
  {
   "cell_type": "code",
   "execution_count": 262,
   "metadata": {
    "ExecuteTime": {
     "end_time": "2020-08-23T23:46:57.557682Z",
     "start_time": "2020-08-23T23:46:57.518389Z"
    }
   },
   "outputs": [],
   "source": [
    "def parse_func_decls(decls):\n",
    "    def get_type(arg_type):\n",
    "        its = arg_type.split()\n",
    "        for i, it in enumerate(its):\n",
    "            if it not in ignore_constraints:\n",
    "                    break\n",
    "        arg_type = its[i]\n",
    "        \n",
    "        # char*\n",
    "        if arg_type[-1] == \"*\":\n",
    "            arg_type_is_pointer = True\n",
    "            arg_type = arg_type[:-1]\n",
    "        else:\n",
    "            # char *\n",
    "            arg_type_is_pointer = len(its) >= i+2 and its[i+1] == \"*\"\n",
    "        return arg_type, arg_type_is_pointer, \" \".join(its[:i])\n",
    "    func_decls = []\n",
    "    for decl in decls:\n",
    "        decl = decl.strip(\"\\n\").strip()\n",
    "        if len(decl) > 0:\n",
    "            args = decl.split(',')\n",
    "            ret_type = get_type(args[0].strip())\n",
    "            func_name = args[1].strip()\n",
    "            func_args = []\n",
    "            for i in range(1, len(args)//2):\n",
    "                arg_type = get_type(args[2*i])\n",
    "                arg_name = args[2*i+1].strip()\n",
    "                func_args.append([arg_type, arg_name])\n",
    "            func_decls.append([ret_type, func_name, func_args])\n",
    "    return func_decls\n",
    "\n",
    "def type2str(arg_type):\n",
    "    arg_type, arg_type_is_pointer, prefix = arg_type\n",
    "    return \"{}{}{}\".format(prefix + \" \" if len(prefix) > 0 else \"\",\n",
    "                           arg_type, \"*\" if arg_type_is_pointer else \"\")\n",
    "\n",
    "def type_is_void(ret_type):\n",
    "    ret_type, ret_type_is_pointer, _ = ret_type\n",
    "    return (not ret_type_is_pointer) and ret_type == 'void'\n",
    "\n",
    "def func_decl2str(func_decl):\n",
    "    ret_type, func_name, func_args = func_decl\n",
    "    return(\"{} {}({})\".format(type2str(ret_type), func_name, \n",
    "        \", \".join([\"{} {}\".format(type2str(arg_type), arg_name) for arg_type, arg_name in func_args])))\n",
    "\n",
    "def module_mermber_var_str(func_names, indent='\\t'):\n",
    "    member_var_str = [\n",
    "        \"{}HUI::PyBaseEngine* pyengine;\".format(indent), \n",
    "        \"{}PyObject* module_obj;\".format(indent)] + \\\n",
    "        [\"{}PyObject* func_{};\".format(indent, name) for name in func_names]\n",
    "    return \"\\n\".join(member_var_str)\n",
    "\n",
    "def module_constructor_str(cppmodule_class_name, pymodule_name, func_names, indent='\\t'):\n",
    "    constructor_str = [\n",
    "        \"{}\\tthis->pyengine = pyengine;\".format(indent),\n",
    "        '{}\\tmodule_obj = pyengine->import_module(\"{}\");'.format(indent, pymodule_name)] + \\\n",
    "        [\"{}\\tfunc_{} = NULL;\".format(indent, name) for name in func_names]\n",
    "    constructor_str = \"\\n\".join(constructor_str)\n",
    "    return \"{}{}(HUI::PyBaseEngine* pyengine)\".format(indent, cppmodule_class_name) + \"{\\n\" + constructor_str + \"\\n\"+indent+\"}\\n\"\n",
    "\n",
    "def build_args_str(func_args, type_fmt_map):\n",
    "    args_str = ['PyObject* args = PyTuple_New({});'.format(len(func_args)) \\\n",
    "            if len(func_args) > 0 else \"PyObject* args = NULL;\"]\n",
    "    for i, ((arg_type, arg_type_is_pointer, _), arg_name) in enumerate(func_args):\n",
    "        fmt_map = type_fmt_map[\"pointer_type_fmt_map\" if arg_type_is_pointer else \"base_type_fmt_map\"]\n",
    "        fmt, _ = fmt_map[arg_type]\n",
    "        args_str.append('PyTuple_SetItem(args, {}, Py_BuildValue(\"{}\", {}));'.format(i, fmt, arg_name))\n",
    "    return args_str\n",
    "\n",
    "def build_ret_str(ret_type, type_fmt_map):\n",
    "    pure_ret_type, ret_type_is_pointer, _ = ret_type\n",
    "    fmt_map = type_fmt_map[\"pointer_type_fmt_map\" if ret_type_is_pointer else \"base_type_fmt_map\"]\n",
    "    fmt, _ = fmt_map[pure_ret_type]\n",
    "    return [\"{} c_ret;\".format(type2str(ret_type)),\n",
    "            'int ok = PyArg_Parse(py_ret, \"{}\", &c_ret);'.format(fmt)]\n",
    "\n",
    "def module_func_str(func_decl, type_fmt_map, indent='\\t'):\n",
    "    ret_type, func_name, func_args = func_decl\n",
    "    ret_void = type_is_void(ret_type)\n",
    "    func_str = \"{}{}\".format(indent, func_decl2str(func_decl)) + \"{\\n\"\n",
    "    partten = \"\\n{}\\t\".format(indent)\n",
    "    func_str += \"\\n\".join(\n",
    "        ([\n",
    "        \"{}\\tif(!func_{})\".format(indent, func_name),\n",
    "        '{}\\t\\tfunc_{} = pyengine->get_func(module_obj, \"{}\");'.format(indent, func_name, func_name),\n",
    "        partten + partten.join(build_args_str(func_args, type_fmt_map)) if len(func_args) > 0 else \"\",\n",
    "        '{}\\t{}PyEval_CallObject(func_{}, {});'.format(indent, \"\" if ret_void else \"PyObject* py_ret = \",\n",
    "                                                       func_name, \"args\" if len(func_args) > 0 else \"NULL\")]) + \\\n",
    "        ([partten + partten.join(build_ret_str(ret_type, type_fmt_map))] if not ret_void else [])\n",
    "    )\n",
    "    \n",
    "    if len(func_args) > 0: \n",
    "        func_str += \"\\n\" + \"{}Py_DECREF(args);\".format(partten)\n",
    "    if not ret_void:\n",
    "        func_str += '{}return c_ret;'.format(partten)\n",
    "    return func_str + \"\\n\" + indent + \"}\\n\"\n",
    "\n",
    "def generate_code(cppmodule_class_name, pymodule_name, hython_config_file, generate_cpp_file, include_head=\"PyBaseEngine.h\"):\n",
    "    file_p = open(generate_cpp_file, 'w')\n",
    "    with open(hython_config_file) as input_fp:\n",
    "        decls = input_fp.readlines()\n",
    "    func_decls = parse_func_decls(decls)\n",
    "    func_names = [func_name for ret_type, func_name, func_args in func_decls]\n",
    "\n",
    "    indent = ''\n",
    "    define_head = generate_cpp_file.replace('.', '_').upper()\n",
    "    print(\"\\n\".join([\n",
    "        \"#ifndef __{}__\".format(define_head),\n",
    "        \"#define __{}__\".format(define_head),\n",
    "        \"#include <{}>\\n\".format(include_head)\n",
    "    ]), file=file_p)\n",
    "    print(indent + \"class {}\".format(cppmodule_class_name) + \"{\", file=file_p)\n",
    "    print(module_mermber_var_str(func_names, indent=\"{}\\t\".format(indent)), file=file_p)\n",
    "    print(\"{}\\npublic:\\n\".format(indent), file=file_p)\n",
    "    print(module_constructor_str(cppmodule_class_name, pymodule_name, func_names, indent=\"{}\\t\".format(indent)), file=file_p)\n",
    "\n",
    "    for func_decl in func_decls:\n",
    "        print(module_func_str(func_decl, type_fmt_map, indent=\"{}\\t\".format(indent)), file=file_p)\n",
    "    print(indent + \"};\\n\", file=file_p)\n",
    "    print(\"#endif\", file=file_p)\n",
    "    file_p.close()\n",
    "\n",
    "import sys\n",
    "file_p = sys.stdout\n",
    "\n",
    "generate_code('TestAPI', 'test_api', 'test_api.hyc', 'test_api.h')"
   ]
  },
  {
   "cell_type": "markdown",
   "metadata": {},
   "source": [
    "fmt | python | c/cpp\n",
    "---|---\n",
    "c |\tstr\t| char\n",
    "s\tstr\tchar *\n",
    "z\tstr/None\tchar*/NULL\n",
    "S\tstr\tPyStringObject\n",
    "i\tint\tint\n",
    "l\tlong\tlong\n",
    "d\tfloat\tdouble\n",
    "D\tcomplex\tPy_Complex*\n",
    "O\t(any)\tPy_Object*\n"
   ]
  },
  {
   "cell_type": "markdown",
   "metadata": {
    "ExecuteTime": {
     "end_time": "2020-08-21T10:02:54.481933Z",
     "start_time": "2020-08-21T10:02:54.476573Z"
    }
   },
   "source": [
    "        PyObject* args = PyTuple_New(6);\n",
    "        PyTuple_SetItem(args, 0, rgb_array);\n",
    "        PyTuple_SetItem(args, 1, Py_BuildValue(\"s\", rgb_file));\n",
    "        PyTuple_SetItem(args, 2, xray_array);\n",
    "        PyTuple_SetItem(args, 3, Py_BuildValue(\"s\", rgb_file));\n",
    "        PyTuple_SetItem(args, 4, radar_array);\n",
    "        PyTuple_SetItem(args, 5, Py_BuildValue(\"s\", radar_file));"
   ]
  },
  {
   "cell_type": "markdown",
   "metadata": {},
   "source": [
    "1. 函数定义写在.h里，可能在编译的时候由于多次加载出现重定义的问题 pyassert"
   ]
  },
  {
   "cell_type": "code",
   "execution_count": null,
   "metadata": {},
   "outputs": [],
   "source": [
    "G[0][S] = min([G[0][S], G[0][k]+G[k][S])"
   ]
  },
  {
   "cell_type": "code",
   "execution_count": 190,
   "metadata": {
    "ExecuteTime": {
     "end_time": "2020-08-23T13:01:03.137626Z",
     "start_time": "2020-08-23T13:00:00.815632Z"
    }
   },
   "outputs": [
    {
     "name": "stdout",
     "output_type": "stream",
     "text": [
      "5 0 10\n",
      "1 2 10\n",
      "1 5 5\n",
      "2 3 1\n",
      "2 5 2\n",
      "3 4 4\n",
      "4 1 7\n",
      "4 3 6\n",
      "5 2 3\n",
      "5 3 9\n",
      "5 4 2\n",
      "[0, 8, 9, 7, 5]\n"
     ]
    }
   ],
   "source": [
    "#-*-coding\n",
    "\n",
    "##djskra\n",
    "from math import inf\n",
    "\n",
    "def to_int(xs):\n",
    "    return [int(x) for x in xs]\n",
    "\n",
    "n, m, k = to_int(input().split())\n",
    "G = [[inf] * n for _ in range(n)]\n",
    "for i in range(m):\n",
    "    x, y, c = to_int(input().split())\n",
    "    G[x-1][y-1] = G[y-1][x-1] = c\n",
    "for i in range(k):\n",
    "    x, y, c = to_int(input().split())\n",
    "    G[x-1][y-1] = c    \n",
    "for i in range(n):\n",
    "    G[i][i] = 0\n",
    "\n",
    "def find_min_idx_out_set(dist, in_set):\n",
    "    min_v = inf\n",
    "    min_i = -1\n",
    "    for i, x in enumerate(dist):\n",
    "        if not in_set[i]:\n",
    "            if x <= min_v:\n",
    "                min_v = x\n",
    "                min_i = i\n",
    "    return min_i, min_v\n",
    "\n",
    "# n = 5\n",
    "# G =[[0, 10, inf, inf, 5],\n",
    "#       [inf, 0, 1, inf, 2],\n",
    "#       [inf, inf, 0, 4, inf],\n",
    "#       [7, inf, 6, 0, inf],\n",
    "#       [inf, 3, 9, 2, 0]]\n",
    "in_set = [False] * n\n",
    "dist = [inf] * n\n",
    "\n",
    "in_set[0] = True\n",
    "dist[:] = G[0][:]\n",
    "\n",
    "for i in range(1, n):\n",
    "    next_k, v = find_min_idx_out_set(dist, in_set)\n",
    "    dist[next_k] = v\n",
    "    in_set[next_k] = True\n",
    "    for j in range(1, n):\n",
    "        if not in_set[j]:\n",
    "            dist[j] = min([dist[j], dist[next_k] + G[next_k][j]])\n",
    "    \n",
    "    \n",
    "res = dist[-1]\n",
    "print(res if res != inf else -1)"
   ]
  },
  {
   "cell_type": "code",
   "execution_count": 224,
   "metadata": {
    "ExecuteTime": {
     "end_time": "2020-08-23T14:13:53.177893Z",
     "start_time": "2020-08-23T14:13:47.172230Z"
    }
   },
   "outputs": [
    {
     "data": {
      "text/plain": [
       "7812500"
      ]
     },
     "execution_count": 224,
     "metadata": {},
     "output_type": "execute_result"
    }
   ],
   "source": [
    "N = 1000000000\n",
    "(N * (2 ** (N-1))) % M"
   ]
  },
  {
   "cell_type": "code",
   "execution_count": 226,
   "metadata": {
    "ExecuteTime": {
     "end_time": "2020-08-23T14:14:48.530594Z",
     "start_time": "2020-08-23T14:14:40.497182Z"
    }
   },
   "outputs": [
    {
     "name": "stdout",
     "output_type": "stream",
     "text": [
      "7812500\n"
     ]
    }
   ],
   "source": [
    "M = 10**9 + 7\n",
    "n = 10**9\n",
    "B = 32\n",
    "k, a = divmod(n-1, B)\n",
    "x = 1\n",
    "for _ in range(k):\n",
    "    x = x << B\n",
    "    x = x % M\n",
    "x = x << a\n",
    "x = x % M\n",
    "x = (x * n) % M\n",
    "print(x)"
   ]
  },
  {
   "cell_type": "code",
   "execution_count": null,
   "metadata": {},
   "outputs": [],
   "source": [
    "\n",
    "def to_int(xs):\n",
    "    return [int(x) for x in xs]\n",
    "\n",
    "def area(A, B, C, D):\n",
    "    return 1./3 * A * (D * D * D - C * C * C) + 1./2* (D*D - C**C) + B * (D - C)  # D*D*D is more prcise than D**3\n",
    "\n",
    "T = int(input())\n",
    "for _ in range(T):\n",
    "    A, B, C, D = to_int(input().split())\n",
    "    print(area(A, B, C, D))"
   ]
  },
  {
   "cell_type": "code",
   "execution_count": null,
   "metadata": {},
   "outputs": [],
   "source": [
    "#include <stdio.h>\n",
    "\n",
    "int main(){\n",
    "    unsigned int n;\n",
    "    scanf(\"%u\", &n);\n",
    "    unsigned long long x = 1;\n",
    "    unsigned long long M = 1000000007;\n",
    "    for(unsigned int i = 0; i < (n-1) / 32; i++){\n",
    "        x = (x << 32) % M;\n",
    "    }\n",
    "    x = ( x << ((n-1) % 32) ) % M;\n",
    "    \n",
    "    x = (x * (unsigned long long)n) % M;\n",
    "    printf(\"%u\\n\", (unsigned int)x);\n",
    "}"
   ]
  }
 ],
 "metadata": {
  "kernelspec": {
   "display_name": "torch120",
   "language": "python",
   "name": "torch120"
  },
  "language_info": {
   "codemirror_mode": {
    "name": "ipython",
    "version": 3
   },
   "file_extension": ".py",
   "mimetype": "text/x-python",
   "name": "python",
   "nbconvert_exporter": "python",
   "pygments_lexer": "ipython3",
   "version": "3.7.8"
  }
 },
 "nbformat": 4,
 "nbformat_minor": 2
}
